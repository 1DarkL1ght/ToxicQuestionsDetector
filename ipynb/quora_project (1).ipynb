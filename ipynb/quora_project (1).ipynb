{
 "cells": [
  {
   "cell_type": "markdown",
   "id": "7c3b25dd-b5c7-4163-beee-9853a4c300a3",
   "metadata": {},
   "source": [
    "# Import requirements"
   ]
  },
  {
   "cell_type": "code",
   "execution_count": 1,
   "id": "24268b5f",
   "metadata": {
    "collapsed": true,
    "id": "24268b5f",
    "jupyter": {
     "outputs_hidden": true
    }
   },
   "outputs": [
    {
     "name": "stderr",
     "output_type": "stream",
     "text": [
      "[nltk_data] Downloading package stopwords to\n",
      "[nltk_data]     C:\\Users\\georg\\AppData\\Roaming\\nltk_data...\n",
      "[nltk_data]   Package stopwords is already up-to-date!\n",
      "[nltk_data] Downloading collection 'popular'\n",
      "[nltk_data]    | \n",
      "[nltk_data]    | Downloading package cmudict to\n",
      "[nltk_data]    |     C:\\Users\\georg\\AppData\\Roaming\\nltk_data...\n",
      "[nltk_data]    |   Package cmudict is already up-to-date!\n",
      "[nltk_data]    | Downloading package gazetteers to\n",
      "[nltk_data]    |     C:\\Users\\georg\\AppData\\Roaming\\nltk_data...\n",
      "[nltk_data]    |   Package gazetteers is already up-to-date!\n",
      "[nltk_data]    | Downloading package genesis to\n",
      "[nltk_data]    |     C:\\Users\\georg\\AppData\\Roaming\\nltk_data...\n",
      "[nltk_data]    |   Package genesis is already up-to-date!\n",
      "[nltk_data]    | Downloading package gutenberg to\n",
      "[nltk_data]    |     C:\\Users\\georg\\AppData\\Roaming\\nltk_data...\n",
      "[nltk_data]    |   Package gutenberg is already up-to-date!\n",
      "[nltk_data]    | Downloading package inaugural to\n",
      "[nltk_data]    |     C:\\Users\\georg\\AppData\\Roaming\\nltk_data...\n",
      "[nltk_data]    |   Package inaugural is already up-to-date!\n",
      "[nltk_data]    | Downloading package movie_reviews to\n",
      "[nltk_data]    |     C:\\Users\\georg\\AppData\\Roaming\\nltk_data...\n",
      "[nltk_data]    |   Package movie_reviews is already up-to-date!\n",
      "[nltk_data]    | Downloading package names to\n",
      "[nltk_data]    |     C:\\Users\\georg\\AppData\\Roaming\\nltk_data...\n",
      "[nltk_data]    |   Package names is already up-to-date!\n",
      "[nltk_data]    | Downloading package shakespeare to\n",
      "[nltk_data]    |     C:\\Users\\georg\\AppData\\Roaming\\nltk_data...\n",
      "[nltk_data]    |   Package shakespeare is already up-to-date!\n",
      "[nltk_data]    | Downloading package stopwords to\n",
      "[nltk_data]    |     C:\\Users\\georg\\AppData\\Roaming\\nltk_data...\n",
      "[nltk_data]    |   Package stopwords is already up-to-date!\n",
      "[nltk_data]    | Downloading package treebank to\n",
      "[nltk_data]    |     C:\\Users\\georg\\AppData\\Roaming\\nltk_data...\n",
      "[nltk_data]    |   Package treebank is already up-to-date!\n",
      "[nltk_data]    | Downloading package twitter_samples to\n",
      "[nltk_data]    |     C:\\Users\\georg\\AppData\\Roaming\\nltk_data...\n",
      "[nltk_data]    |   Package twitter_samples is already up-to-date!\n",
      "[nltk_data]    | Downloading package omw to\n",
      "[nltk_data]    |     C:\\Users\\georg\\AppData\\Roaming\\nltk_data...\n",
      "[nltk_data]    |   Package omw is already up-to-date!\n",
      "[nltk_data]    | Downloading package omw-1.4 to\n",
      "[nltk_data]    |     C:\\Users\\georg\\AppData\\Roaming\\nltk_data...\n",
      "[nltk_data]    |   Package omw-1.4 is already up-to-date!\n",
      "[nltk_data]    | Downloading package wordnet to\n",
      "[nltk_data]    |     C:\\Users\\georg\\AppData\\Roaming\\nltk_data...\n",
      "[nltk_data]    |   Package wordnet is already up-to-date!\n",
      "[nltk_data]    | Downloading package wordnet2021 to\n",
      "[nltk_data]    |     C:\\Users\\georg\\AppData\\Roaming\\nltk_data...\n",
      "[nltk_data]    |   Package wordnet2021 is already up-to-date!\n",
      "[nltk_data]    | Downloading package wordnet31 to\n",
      "[nltk_data]    |     C:\\Users\\georg\\AppData\\Roaming\\nltk_data...\n",
      "[nltk_data]    |   Package wordnet31 is already up-to-date!\n",
      "[nltk_data]    | Downloading package wordnet_ic to\n",
      "[nltk_data]    |     C:\\Users\\georg\\AppData\\Roaming\\nltk_data...\n",
      "[nltk_data]    |   Package wordnet_ic is already up-to-date!\n",
      "[nltk_data]    | Downloading package words to\n",
      "[nltk_data]    |     C:\\Users\\georg\\AppData\\Roaming\\nltk_data...\n",
      "[nltk_data]    |   Package words is already up-to-date!\n",
      "[nltk_data]    | Downloading package maxent_ne_chunker to\n",
      "[nltk_data]    |     C:\\Users\\georg\\AppData\\Roaming\\nltk_data...\n",
      "[nltk_data]    |   Package maxent_ne_chunker is already up-to-date!\n",
      "[nltk_data]    | Downloading package punkt to\n",
      "[nltk_data]    |     C:\\Users\\georg\\AppData\\Roaming\\nltk_data...\n",
      "[nltk_data]    |   Package punkt is already up-to-date!\n",
      "[nltk_data]    | Downloading package snowball_data to\n",
      "[nltk_data]    |     C:\\Users\\georg\\AppData\\Roaming\\nltk_data...\n",
      "[nltk_data]    |   Package snowball_data is already up-to-date!\n",
      "[nltk_data]    | Downloading package averaged_perceptron_tagger to\n",
      "[nltk_data]    |     C:\\Users\\georg\\AppData\\Roaming\\nltk_data...\n",
      "[nltk_data]    |   Package averaged_perceptron_tagger is already up-\n",
      "[nltk_data]    |       to-date!\n",
      "[nltk_data]    | \n",
      "[nltk_data]  Done downloading collection popular\n",
      "[nltk_data] Downloading package punkt to\n",
      "[nltk_data]     C:\\Users\\georg\\AppData\\Roaming\\nltk_data...\n",
      "[nltk_data]   Package punkt is already up-to-date!\n",
      "[nltk_data] Downloading package punkt_tab to\n",
      "[nltk_data]     C:\\Users\\georg\\AppData\\Roaming\\nltk_data...\n",
      "[nltk_data]   Package punkt_tab is already up-to-date!\n"
     ]
    }
   ],
   "source": [
    "import random\n",
    "import warnings\n",
    "\n",
    "import numpy as np\n",
    "import pandas as pd\n",
    "import matplotlib.pyplot as plt\n",
    "import seaborn as sns\n",
    "import nltk\n",
    "import torch\n",
    "import sklearn\n",
    "\n",
    "from nltk.tokenize import word_tokenize\n",
    "from nltk.stem import SnowballStemmer\n",
    "from nltk.tokenize.regexp import RegexpTokenizer\n",
    "from nltk.stem import WordNetLemmatizer\n",
    "from nltk.corpus import stopwords\n",
    "\n",
    "from torch import nn\n",
    "from torch.utils.data import TensorDataset, DataLoader, random_split\n",
    "from torch.optim.lr_scheduler import ReduceLROnPlateau\n",
    "from torch.optim import NAdam\n",
    "from torcheval.metrics import MulticlassAccuracy\n",
    "from sklearn.metrics import f1_score\n",
    "from sklearn.metrics import precision_score\n",
    "from sklearn.metrics import recall_score\n",
    "\n",
    "from tqdm.notebook import tqdm\n",
    "\n",
    "\n",
    "\n",
    "nltk.download('stopwords')\n",
    "nltk.download('popular')\n",
    "nltk.download('punkt')\n",
    "nltk.download('punkt_tab')\n",
    "\n",
    "warnings.filterwarnings('ignore')"
   ]
  },
  {
   "cell_type": "markdown",
   "id": "68b3bc44-a830-4efd-af50-9759db8731f7",
   "metadata": {},
   "source": [
    "# Check for CUDA"
   ]
  },
  {
   "cell_type": "code",
   "execution_count": 2,
   "id": "2f1b4717",
   "metadata": {},
   "outputs": [
    {
     "name": "stdout",
     "output_type": "stream",
     "text": [
      "cuda:0\n"
     ]
    }
   ],
   "source": [
    "if torch.cuda.is_available():\n",
    "    device = 'cuda:0'\n",
    "else:\n",
    "    device = 'cpu'\n",
    "print(device)"
   ]
  },
  {
   "cell_type": "markdown",
   "id": "c4c98fb1-d540-4a43-b107-580984ac3ada",
   "metadata": {},
   "source": [
    "# Data overview & preprocessing"
   ]
  },
  {
   "cell_type": "markdown",
   "id": "c35532c3-5c38-4396-825e-5f3b24a97db0",
   "metadata": {},
   "source": [
    "## Quora dataset"
   ]
  },
  {
   "cell_type": "code",
   "execution_count": 3,
   "id": "f6236f11",
   "metadata": {
    "id": "f6236f11"
   },
   "outputs": [],
   "source": [
    "train_quora = pd.read_csv('train.csv').drop('qid', axis=1)\n",
    "test_quora = pd.read_csv('test.csv').drop('qid', axis=1)"
   ]
  },
  {
   "cell_type": "code",
   "execution_count": 4,
   "id": "961523f5-2e52-424d-91e4-322f2888b5c4",
   "metadata": {},
   "outputs": [
    {
     "data": {
      "text/html": [
       "<div>\n",
       "<style scoped>\n",
       "    .dataframe tbody tr th:only-of-type {\n",
       "        vertical-align: middle;\n",
       "    }\n",
       "\n",
       "    .dataframe tbody tr th {\n",
       "        vertical-align: top;\n",
       "    }\n",
       "\n",
       "    .dataframe thead th {\n",
       "        text-align: right;\n",
       "    }\n",
       "</style>\n",
       "<table border=\"1\" class=\"dataframe\">\n",
       "  <thead>\n",
       "    <tr style=\"text-align: right;\">\n",
       "      <th></th>\n",
       "      <th>question_text</th>\n",
       "      <th>target</th>\n",
       "    </tr>\n",
       "  </thead>\n",
       "  <tbody>\n",
       "    <tr>\n",
       "      <th>0</th>\n",
       "      <td>How did Quebec nationalists see their province...</td>\n",
       "      <td>0</td>\n",
       "    </tr>\n",
       "    <tr>\n",
       "      <th>1</th>\n",
       "      <td>Do you have an adopted dog, how would you enco...</td>\n",
       "      <td>0</td>\n",
       "    </tr>\n",
       "    <tr>\n",
       "      <th>2</th>\n",
       "      <td>Why does velocity affect time? Does velocity a...</td>\n",
       "      <td>0</td>\n",
       "    </tr>\n",
       "    <tr>\n",
       "      <th>3</th>\n",
       "      <td>How did Otto von Guericke used the Magdeburg h...</td>\n",
       "      <td>0</td>\n",
       "    </tr>\n",
       "    <tr>\n",
       "      <th>4</th>\n",
       "      <td>Can I convert montra helicon D to a mountain b...</td>\n",
       "      <td>0</td>\n",
       "    </tr>\n",
       "  </tbody>\n",
       "</table>\n",
       "</div>"
      ],
      "text/plain": [
       "                                       question_text  target\n",
       "0  How did Quebec nationalists see their province...       0\n",
       "1  Do you have an adopted dog, how would you enco...       0\n",
       "2  Why does velocity affect time? Does velocity a...       0\n",
       "3  How did Otto von Guericke used the Magdeburg h...       0\n",
       "4  Can I convert montra helicon D to a mountain b...       0"
      ]
     },
     "execution_count": 4,
     "metadata": {},
     "output_type": "execute_result"
    }
   ],
   "source": [
    "train_quora.head(5)"
   ]
  },
  {
   "cell_type": "code",
   "execution_count": 5,
   "id": "f8976401",
   "metadata": {
    "id": "f8976401"
   },
   "outputs": [],
   "source": [
    "train_quora.drop_duplicates(inplace=True)\n",
    "train_quora.dropna(inplace=True)\n",
    "test_quora.drop_duplicates(inplace=True)\n",
    "test_quora.dropna(inplace=True)"
   ]
  },
  {
   "cell_type": "code",
   "execution_count": 6,
   "id": "20a4371a-bbc7-468f-ade7-b3cf2065b4d2",
   "metadata": {},
   "outputs": [
    {
     "data": {
      "text/plain": [
       "Text(0.5, 1.0, 'Distribution by classes')"
      ]
     },
     "execution_count": 6,
     "metadata": {},
     "output_type": "execute_result"
    },
    {
     "data": {
      "image/png": "[encoded data removed]",
      "text/plain": [
       "<Figure size 640x480 with 1 Axes>"
      ]
     },
     "metadata": {},
     "output_type": "display_data"
    }
   ],
   "source": [
    "colors = ['green', 'red']\n",
    "plt.bar(['Negative class (0)', 'Positive class (1)'], train_quora['target'].value_counts(), color=colors)\n",
    "plt.title('Distribution by classes')"
   ]
  },
  {
   "cell_type": "markdown",
   "id": "ac1909c5-184e-43ff-b83d-11f8eac662ba",
   "metadata": {},
   "source": [
    "## Jigsaw dataset"
   ]
  },
  {
   "cell_type": "code",
   "execution_count": 7,
   "id": "cfa78f68-1546-4b86-b575-90d36bf57480",
   "metadata": {},
   "outputs": [],
   "source": [
    "train_jigsaw = pd.read_csv('Jigsaw_dataset/train.csv').drop('id', axis=1)\n",
    "train_jigsaw = train_jigsaw[['target', 'comment_text']]\n",
    "train_jigsaw = train_jigsaw.rename(columns={'comment_text': 'question_text'})\n",
    "\n",
    "test_jigsaw = pd.read_csv('Jigsaw_dataset/test.csv').drop('id', axis=1)\n",
    "test_jigsaw = test_jigsaw.rename(columns={'comment_text': 'question_text'})"
   ]
  },
  {
   "cell_type": "code",
   "execution_count": 8,
   "id": "c9c94a2c-cba8-453f-aecf-149c3da581c1",
   "metadata": {},
   "outputs": [
    {
     "data": {
      "text/html": [
       "<div>\n",
       "<style scoped>\n",
       "    .dataframe tbody tr th:only-of-type {\n",
       "        vertical-align: middle;\n",
       "    }\n",
       "\n",
       "    .dataframe tbody tr th {\n",
       "        vertical-align: top;\n",
       "    }\n",
       "\n",
       "    .dataframe thead th {\n",
       "        text-align: right;\n",
       "    }\n",
       "</style>\n",
       "<table border=\"1\" class=\"dataframe\">\n",
       "  <thead>\n",
       "    <tr style=\"text-align: right;\">\n",
       "      <th></th>\n",
       "      <th>target</th>\n",
       "      <th>question_text</th>\n",
       "    </tr>\n",
       "  </thead>\n",
       "  <tbody>\n",
       "    <tr>\n",
       "      <th>0</th>\n",
       "      <td>0.000000</td>\n",
       "      <td>This is so cool. It's like, 'would you want yo...</td>\n",
       "    </tr>\n",
       "    <tr>\n",
       "      <th>1</th>\n",
       "      <td>0.000000</td>\n",
       "      <td>Thank you!! This would make my life a lot less...</td>\n",
       "    </tr>\n",
       "    <tr>\n",
       "      <th>2</th>\n",
       "      <td>0.000000</td>\n",
       "      <td>This is such an urgent design problem; kudos t...</td>\n",
       "    </tr>\n",
       "    <tr>\n",
       "      <th>3</th>\n",
       "      <td>0.000000</td>\n",
       "      <td>Is this something I'll be able to install on m...</td>\n",
       "    </tr>\n",
       "    <tr>\n",
       "      <th>4</th>\n",
       "      <td>0.893617</td>\n",
       "      <td>haha you guys are a bunch of losers.</td>\n",
       "    </tr>\n",
       "  </tbody>\n",
       "</table>\n",
       "</div>"
      ],
      "text/plain": [
       "     target                                      question_text\n",
       "0  0.000000  This is so cool. It's like, 'would you want yo...\n",
       "1  0.000000  Thank you!! This would make my life a lot less...\n",
       "2  0.000000  This is such an urgent design problem; kudos t...\n",
       "3  0.000000  Is this something I'll be able to install on m...\n",
       "4  0.893617               haha you guys are a bunch of losers."
      ]
     },
     "execution_count": 8,
     "metadata": {},
     "output_type": "execute_result"
    }
   ],
   "source": [
    "train_jigsaw.head(5)"
   ]
  },
  {
   "cell_type": "code",
   "execution_count": 9,
   "id": "a2e4539d-1f3e-48ec-81a6-6ddc8fb0122e",
   "metadata": {},
   "outputs": [],
   "source": [
    "train_jigsaw.drop_duplicates(inplace=True)\n",
    "train_jigsaw.dropna(inplace=True)\n",
    "\n",
    "test_jigsaw.drop_duplicates(inplace=True)\n",
    "test_jigsaw.dropna(inplace=True)\n",
    "\n",
    "train_jigsaw['target'] = train_jigsaw['target'].apply(lambda x: 1 if x >= 0.5 else 0)"
   ]
  },
  {
   "cell_type": "code",
   "execution_count": 10,
   "id": "4f82dbb2-9efa-4662-ba7c-392e8acc9667",
   "metadata": {},
   "outputs": [
    {
     "data": {
      "text/plain": [
       "Text(0.5, 1.0, 'Distribution by classes')"
      ]
     },
     "execution_count": 10,
     "metadata": {},
     "output_type": "execute_result"
    },
    {
     "data": {
      "image/png": "[encoded data removed]",
      "text/plain": [
       "<Figure size 640x480 with 1 Axes>"
      ]
     },
     "metadata": {},
     "output_type": "display_data"
    }
   ],
   "source": [
    "colors = ['green', 'red']\n",
    "plt.bar(['Negative class (0)', 'Positive class (1)'], train_jigsaw['target'].value_counts(), color=colors)\n",
    "plt.title('Distribution by classes')"
   ]
  },
  {
   "cell_type": "markdown",
   "id": "9141ef18-4660-4494-a3b7-93d326357658",
   "metadata": {},
   "source": [
    "## Combining datasets\n",
    "stack all negative (target == 0) texts, choose 1M randomly\n",
    "stack all positive (target >= 0.5) texts, take all of them"
   ]
  },
  {
   "cell_type": "code",
   "execution_count": 11,
   "id": "9a3f74b6-d528-4218-b71e-bd9757cbb88f",
   "metadata": {},
   "outputs": [
    {
     "data": {
      "text/html": [
       "<div>\n",
       "<style scoped>\n",
       "    .dataframe tbody tr th:only-of-type {\n",
       "        vertical-align: middle;\n",
       "    }\n",
       "\n",
       "    .dataframe tbody tr th {\n",
       "        vertical-align: top;\n",
       "    }\n",
       "\n",
       "    .dataframe thead th {\n",
       "        text-align: right;\n",
       "    }\n",
       "</style>\n",
       "<table border=\"1\" class=\"dataframe\">\n",
       "  <thead>\n",
       "    <tr style=\"text-align: right;\">\n",
       "      <th></th>\n",
       "      <th>question_text</th>\n",
       "      <th>target</th>\n",
       "    </tr>\n",
       "  </thead>\n",
       "  <tbody>\n",
       "    <tr>\n",
       "      <th>0</th>\n",
       "      <td>What are fun, engaging games and activities I ...</td>\n",
       "      <td>0</td>\n",
       "    </tr>\n",
       "    <tr>\n",
       "      <th>1</th>\n",
       "      <td>My husband died suddenly and I was left with r...</td>\n",
       "      <td>0</td>\n",
       "    </tr>\n",
       "    <tr>\n",
       "      <th>2</th>\n",
       "      <td>LOL, here you are, just worried about who leak...</td>\n",
       "      <td>0</td>\n",
       "    </tr>\n",
       "    <tr>\n",
       "      <th>3</th>\n",
       "      <td>Gee, that sounds really impressive. Did you ma...</td>\n",
       "      <td>0</td>\n",
       "    </tr>\n",
       "    <tr>\n",
       "      <th>4</th>\n",
       "      <td>AWESOME.  Made my day.</td>\n",
       "      <td>0</td>\n",
       "    </tr>\n",
       "  </tbody>\n",
       "</table>\n",
       "</div>"
      ],
      "text/plain": [
       "                                       question_text  target\n",
       "0  What are fun, engaging games and activities I ...       0\n",
       "1  My husband died suddenly and I was left with r...       0\n",
       "2  LOL, here you are, just worried about who leak...       0\n",
       "3  Gee, that sounds really impressive. Did you ma...       0\n",
       "4                             AWESOME.  Made my day.       0"
      ]
     },
     "execution_count": 11,
     "metadata": {},
     "output_type": "execute_result"
    }
   ],
   "source": [
    "train_quora_pos = train_quora[train_quora['target'] == 1]\n",
    "train_quora_neg = train_quora[train_quora['target'] == 0]\n",
    "\n",
    "train_jigsaw_pos = train_jigsaw[train_jigsaw['target'] == 1]\n",
    "train_jigsaw_neg = train_jigsaw[train_jigsaw['target'] == 0]\n",
    "\n",
    "train_pos = pd.concat([train_quora_pos, train_jigsaw_pos])\n",
    "train_neg = pd.concat([train_quora_neg, train_jigsaw_neg])\n",
    "train = pd.concat([train_neg.sample(n=1000000, random_state=1), train_pos]).reset_index().drop('index', axis=1)\n",
    "\n",
    "test = pd.concat([test_quora, test_jigsaw]).reset_index().drop('index', axis=1)\n",
    "\n",
    "train.head()"
   ]
  },
  {
   "cell_type": "code",
   "execution_count": 12,
   "id": "e6957f5b-4a18-4aa9-878b-785352c09c3c",
   "metadata": {},
   "outputs": [
    {
     "data": {
      "text/plain": [
       "Text(0.5, 1.0, 'Distribution by classes')"
      ]
     },
     "execution_count": 12,
     "metadata": {},
     "output_type": "execute_result"
    },
    {
     "data": {
      "image/png": "[encoded data removed]",
      "text/plain": [
       "<Figure size 640x480 with 1 Axes>"
      ]
     },
     "metadata": {},
     "output_type": "display_data"
    }
   ],
   "source": [
    "colors = ['green', 'red']\n",
    "plt.bar(['Negative class (0)', 'Positive class (1)'], train['target'].value_counts(), color=colors)\n",
    "plt.title('Distribution by classes')"
   ]
  },
  {
   "cell_type": "markdown",
   "id": "8d5fc348-ba76-4833-8793-93b9e4206804",
   "metadata": {},
   "source": [
    "We have a hardly unbalaced classes, so we need to find a way to handle it"
   ]
  },
  {
   "cell_type": "markdown",
   "id": "b952d136-806f-4f4e-9bae-392e5359e9a4",
   "metadata": {},
   "source": [
    "## Let's look at distribution by length of the query"
   ]
  },
  {
   "cell_type": "code",
   "execution_count": 13,
   "id": "2e380221-227d-499e-bfcb-2220fbf93606",
   "metadata": {},
   "outputs": [],
   "source": [
    "def preprocess(df:pd.DataFrame) -> pd.DataFrame:\n",
    "    df = df.drop_duplicates()\n",
    "    df = df.dropna()\n",
    "    \n",
    "    stop_words = set(stopwords.words('english'))\n",
    "\n",
    "    tokenizer = RegexpTokenizer(r'\\w+')\n",
    "    lemmatizer = WordNetLemmatizer()\n",
    "    \n",
    "    def lemmatize_sentence(tokens: list) -> list:\n",
    "        lemmatized_tokens = []\n",
    "        for token in tokens:\n",
    "            lemmatized_tokens.append(lemmatizer.lemmatize(token))\n",
    "        return lemmatized_tokens\n",
    "\n",
    "    def remove_stopwords(tokens: list) -> list:\n",
    "        return [token for token in tokens if token not in stop_words]\n",
    "\n",
    "    df['question_text'] = df['question_text'].apply(lambda x: x.lower())\n",
    "    df['question_text'] = df['question_text'].apply(lambda x: tokenizer.tokenize(x))\n",
    "    df['question_text'] = df['question_text'].apply(lambda x: remove_stopwords(x))\n",
    "    # df['question_text'] = df['question_text'].apply(lambda x: lemmatize_sentence(x))\n",
    "        \n",
    "    return df\n",
    "\n",
    "train = preprocess(train)\n",
    "test = preprocess(test)"
   ]
  },
  {
   "cell_type": "code",
   "execution_count": 14,
   "id": "2e108b0e-e49d-468e-bf1b-0d8076f7e80f",
   "metadata": {},
   "outputs": [
    {
     "name": "stdout",
     "output_type": "stream",
     "text": [
      "Mean length in train subset: 18.65891984963119, median length in train subset: 10.0, max length in train subset: 304\n",
      "Mean length in test subset: 10.76527287652221, median length in test subset: 6.0, max length in test subset: 238\n"
     ]
    },
    {
     "data": {
      "text/plain": [
       "Text(0.5, 1.0, 'length Distribution')"
      ]
     },
     "execution_count": 14,
     "metadata": {},
     "output_type": "execute_result"
    },
    {
     "data": {
      "image/png": "[encoded data removed]",
      "text/plain": [
       "<Figure size 800x600 with 1 Axes>"
      ]
     },
     "metadata": {},
     "output_type": "display_data"
    }
   ],
   "source": [
    "train_seq_lengths = [len(row['question_text']) for _, row in train.iterrows()]\n",
    "test_seq_lengths = [len(row['question_text']) for _, row in test.iterrows()]\n",
    "print(f'Mean length in train subset: {np.mean(train_seq_lengths)}, median length in train subset: {np.median(train_seq_lengths)}, max length in train subset: {max(train_seq_lengths)}')\n",
    "print(f'Mean length in test subset: {np.mean(test_seq_lengths)}, median length in test subset: {np.median(test_seq_lengths)}, max length in test subset: {max(test_seq_lengths)}')\n",
    "\n",
    "plt.figure(figsize=(8,6))\n",
    "sns.histplot(train_seq_lengths, color='blue', label='train lengths', kde=False, bins=30)\n",
    "sns.histplot(test_seq_lengths, color='red', label='test lengths', kde=False, bins=30)\n",
    "plt.xlabel(\"Sequence lengths\")\n",
    "plt.ylabel(\"Frequency\")\n",
    "plt.legend()\n",
    "plt.title(\"length Distribution\")"
   ]
  },
  {
   "cell_type": "markdown",
   "id": "741410f5-2add-4dfd-86d0-24428e60843a",
   "metadata": {},
   "source": [
    "## Sequence padding"
   ]
  },
  {
   "cell_type": "code",
   "execution_count": 15,
   "id": "86393190-b467-4791-acd8-c58e625224ef",
   "metadata": {},
   "outputs": [],
   "source": [
    "MAXLEN = 100\n",
    "\n",
    "def pad_sequences(df: pd.DataFrame, maxlen=50) -> pd.DataFrame:\n",
    "    df['question_text'] = df['question_text'].apply(lambda x: x[:maxlen])\n",
    "    df['question_text'] = df['question_text'].apply(lambda x: x + ['<pad>'] * (maxlen - len(x)))\n",
    "    return df\n",
    "\n",
    "train = pad_sequences(train, MAXLEN)\n",
    "test = pad_sequences(test, MAXLEN)"
   ]
  },
  {
   "cell_type": "markdown",
   "id": "d65f8133-26cf-4be5-8bca-bbd8f8a95999",
   "metadata": {},
   "source": [
    "## Making vocab (word -> idx)"
   ]
  },
  {
   "cell_type": "code",
   "execution_count": 16,
   "id": "20d886a2-ef80-42a7-8512-3a88af8bc06b",
   "metadata": {},
   "outputs": [],
   "source": [
    "def make_vocab():\n",
    "    unique_words = set()\n",
    "\n",
    "    for idx, row in train.iterrows():\n",
    "        unique_words.update(row['question_text'])\n",
    "\n",
    "    for idx, row in test.iterrows():\n",
    "        unique_words.update(row['question_text'])\n",
    "    \n",
    "    word_to_idx = {'<pad>': 0, '<unk>': 1}\n",
    "    for idx, word in enumerate(sorted(unique_words), start=2):\n",
    "        if word != '<pad>' and word != '<unk>':\n",
    "            word_to_idx[word] = idx\n",
    "\n",
    "    return word_to_idx, len(word_to_idx) + 1\n",
    "\n",
    "word_to_idx, vocab_size = make_vocab()"
   ]
  },
  {
   "cell_type": "code",
   "execution_count": 17,
   "id": "1294ddfb-116f-458d-878f-f5c98c1351d8",
   "metadata": {},
   "outputs": [],
   "source": [
    "def save_vocab_to_file(filename: str) -> None:\n",
    "    with open(filename, 'w', encoding='utf8') as vocab:\n",
    "        for word, idx in word_to_idx.items():\n",
    "            line = ' '.join([word, str(idx)]) + '\\n'\n",
    "            vocab.write(line)\n",
    "\n",
    "save_vocab_to_file('vocab.txt')"
   ]
  },
  {
   "cell_type": "code",
   "execution_count": 18,
   "id": "bcf69acc-d699-4859-933b-8d83d5a3d384",
   "metadata": {},
   "outputs": [],
   "source": [
    "def read_vocab(vocab_path: str):\n",
    "            word_to_idx = {}\n",
    "            with open(vocab_path, 'r', encoding='utf8') as vocab:\n",
    "                for line in vocab.readlines():\n",
    "                    word, idx = line.split()\n",
    "                    word_to_idx[word] = int(idx)\n",
    "            vocab_size = len(word_to_idx) + 1\n",
    "            return word_to_idx, vocab_size\n",
    "word_to_idx, vocab_size = read_vocab('vocab.txt')"
   ]
  },
  {
   "cell_type": "markdown",
   "id": "6751a261-ec5c-4bed-b2fa-d00e3f6f7ce9",
   "metadata": {},
   "source": [
    "## Making GloVe weights matrix"
   ]
  },
  {
   "cell_type": "code",
   "execution_count": 19,
   "id": "f84117b6-ff9c-474a-b368-3a588b018b91",
   "metadata": {},
   "outputs": [],
   "source": [
    "GLOVE_PATH = 'glove.840B.300d.txt'\n",
    "GLOVE_DIM = 300\n",
    "def make_weight_matrix(glove_dim: int) -> np.ndarray:\n",
    "    emb_mean, emb_std = -0.005838499,0.48782197\n",
    "    weight_matrix = np.zeros((vocab_size, glove_dim))\n",
    "    glove_dict = {}\n",
    "    with open(GLOVE_PATH, 'r', encoding=\"utf8\") as glove:\n",
    "        for line in glove.readlines():\n",
    "            splitted_line = line.split(' ')\n",
    "            word = splitted_line[0]\n",
    "            try:\n",
    "                vec = np.array(list(map(float, splitted_line[1:])))\n",
    "            except:\n",
    "                vec = np.array(list(map(float, splitted_line[2:])))\n",
    "            glove_dict[word] = vec\n",
    "            \n",
    "    for word, idx in word_to_idx.items():\n",
    "        if word in glove_dict:\n",
    "            weight_matrix[idx] = glove_dict[word]\n",
    "        elif word == '<unk>':\n",
    "            weight_matrix[idx] = np.random.normal(emb_mean, emb_std, glove_dim)\n",
    "        elif word == '<pad>':\n",
    "            weight_matrix[idx] = np.zeros(glove_dim)\n",
    "\n",
    "    return weight_matrix\n",
    "\n",
    "glove_weights = make_weight_matrix(GLOVE_DIM)"
   ]
  },
  {
   "cell_type": "markdown",
   "id": "132c0e0d-32f1-4237-8078-b8eacccd11ff",
   "metadata": {},
   "source": [
    "## Converting text to indices"
   ]
  },
  {
   "cell_type": "code",
   "execution_count": 20,
   "id": "b877b733-f5ff-4125-9a58-4fbfcb19318d",
   "metadata": {},
   "outputs": [],
   "source": [
    "def text_to_idxs(text: list) -> list:\n",
    "    return [word_to_idx.get(word, word_to_idx['<unk>']) for word in text]\n",
    "\n",
    "train['question_text'] = train['question_text'].apply(lambda x: text_to_idxs(x))\n",
    "test['question_text'] = test['question_text'].apply(lambda x: text_to_idxs(x))"
   ]
  },
  {
   "cell_type": "markdown",
   "id": "da61d393-068a-4d22-ab05-012eabcc3ad2",
   "metadata": {},
   "source": [
    "## Dataset class"
   ]
  },
  {
   "cell_type": "code",
   "execution_count": 21,
   "id": "5ac175a0-72d3-4f41-a01f-7bffefca5760",
   "metadata": {},
   "outputs": [],
   "source": [
    "class CombinedDataset:\n",
    "    def __init__(self, df: pd.DataFrame):\n",
    "        self.texts = []\n",
    "        self.labels = []\n",
    "\n",
    "        for idx, row in df.iterrows():\n",
    "            indices = row['question_text']\n",
    "            self.texts.append(indices)\n",
    "            self.labels.append(row['target'])\n",
    "\n",
    "        combined = list(zip(self.texts, self.labels))\n",
    "        random.shuffle(combined)\n",
    "        self.texts, self.labels = zip(*combined)\n",
    "\n",
    "        self.texts = torch.stack([torch.tensor(indices, dtype=torch.long) for indices in self.texts])  # [num_samples, seq_len]\n",
    "        self.labels = torch.tensor(self.labels, dtype=torch.float).unsqueeze(1)  # [num_samples, 1]\n",
    "\n",
    "    def __getitem__(self, idx):\n",
    "        return self.texts[idx], self.labels[idx]\n",
    "\n",
    "    def __len__(self):\n",
    "        return len(self.labels)"
   ]
  },
  {
   "cell_type": "code",
   "execution_count": 22,
   "id": "b20dc663-47af-43c1-8a37-84cfd7699b7b",
   "metadata": {},
   "outputs": [],
   "source": [
    "TRAIN_SIZE = 0.8\n",
    "BATCH_SIZE = 64\n",
    "\n",
    "dataset = CombinedDataset(train)\n",
    "trainset, valset = random_split(dataset, [TRAIN_SIZE, 1 - TRAIN_SIZE])\n",
    "trainloader = DataLoader(trainset, BATCH_SIZE, shuffle=True)\n",
    "valloader = DataLoader(valset, BATCH_SIZE, shuffle=True)"
   ]
  },
  {
   "cell_type": "markdown",
   "id": "1233fae3-b898-4635-8bc2-4194c4f48f0f",
   "metadata": {},
   "source": [
    "# Auxiliary"
   ]
  },
  {
   "cell_type": "code",
   "execution_count": 23,
   "id": "76d11749-1b10-4334-bdba-9a4d78cc43b5",
   "metadata": {},
   "outputs": [],
   "source": [
    "class EarlyStopping:\n",
    "    def __init__(self, patience=5, min_delta=0.001):\n",
    "        self.patience = patience\n",
    "        self.min_delta = min_delta\n",
    "        self.best_loss = float('inf')\n",
    "        self.counter = 0\n",
    "\n",
    "    def __call__(self, val_loss):\n",
    "        if val_loss < self.best_loss - self.min_delta:\n",
    "            self.best_loss = val_loss\n",
    "            self.counter = 0 \n",
    "        else:\n",
    "            self.counter += 1\n",
    "            if self.counter >= self.patience:\n",
    "                print(\"Early stopping triggered\")\n",
    "                return True\n",
    "        return False"
   ]
  },
  {
   "cell_type": "markdown",
   "id": "638f8356-7216-40ba-a284-d7b975c74dd0",
   "metadata": {},
   "source": [
    "# Model class"
   ]
  },
  {
   "cell_type": "code",
   "execution_count": 33,
   "id": "1a1cdbce-3e3b-4228-9177-bca7976d79e8",
   "metadata": {},
   "outputs": [],
   "source": [
    "class LSTM_Model(nn.Module):\n",
    "    def __init__(self, vocab_size, glove_dim, num_lstm_layers, hidden_size):\n",
    "        super().__init__()\n",
    "        \n",
    "        self.embedding = nn.Embedding(vocab_size, glove_dim)\n",
    "        self.embedding.weight.data.copy_(torch.from_numpy(glove_weights))\n",
    "        self.embedding.weight.requires_grad = False\n",
    "        self.lstm = nn.LSTM(glove_dim, hidden_size = hidden_size, num_layers = num_lstm_layers, bidirectional=True, batch_first=True)\n",
    "        self.fc1 = nn.Linear(hidden_size * 2 , hidden_size)\n",
    "        self.fc2 = nn.Linear(hidden_size, 1)\n",
    "        self.relu = nn.ReLU()\n",
    "        self.dropout = nn.Dropout(0.2)\n",
    "    \n",
    "    def forward(self, x):\n",
    "        out = self.embedding(x)\n",
    "        out, (h, c) = self.lstm(out)\n",
    "        out = out[:, -1, :]\n",
    "        out = self.dropout(self.relu(self.fc1(out)))\n",
    "        out = self.fc2(out)\n",
    "        return out\n",
    "\n",
    "model = LSTM_Model(vocab_size, GLOVE_DIM, 3, 256).to(device)"
   ]
  },
  {
   "cell_type": "code",
   "execution_count": 25,
   "id": "61d07a24-d745-48d9-8f95-8b856a2ba81f",
   "metadata": {},
   "outputs": [],
   "source": [
    "# class LSTMAttention_Model(nn.Module):\n",
    "#     def __init__(self, vocab_size, glove_dim, num_lstm_layers, hidden_size):\n",
    "#         super().__init__()\n",
    "        \n",
    "#         self.embedding = nn.Embedding(vocab_size, glove_dim)\n",
    "#         self.embedding.weight.data.copy_(torch.from_numpy(glove_weights))\n",
    "#         self.embedding.weight.requires_grad = False\n",
    "#         self.lstm = nn.LSTM(glove_dim, hidden_size = hidden_size, num_layers = num_lstm_layers, bidirectional=True, batch_first=True)\n",
    "#         self.attention = nn.MultiheadAttention(hidden_size * 2, 8, batch_first=True, dropout=0.2)\n",
    "#         self.fc1 = nn.Linear(hidden_size * 2 , 1)\n",
    "    \n",
    "#     def forward(self, x):\n",
    "#         out = self.embedding(x)\n",
    "#         out, (h, c) = self.lstm(out)\n",
    "#         query = out[:, -1, :].unsqueeze(1)\n",
    "#         key = out\n",
    "#         value = out\n",
    "#         attn_out, attn_weights = self.attention(query, key, value)\n",
    "#         out = attn_out.flatten(start_dim=1)\n",
    "#         out = self.fc1(out)\n",
    "#         return out\n",
    "\n",
    "# model = LSTMAttention_Model(vocab_size, GLOVE_DIM, 1, 64).to(device)"
   ]
  },
  {
   "cell_type": "code",
   "execution_count": 26,
   "id": "09ff50d6-167d-4f1a-ae36-81864255d138",
   "metadata": {},
   "outputs": [],
   "source": [
    "# class Transformer_Model(nn.Module):\n",
    "#     def __init__(self, vocab_size, glove_dim):\n",
    "#         super().__init__()\n",
    "#         self.glove_dim = glove_dim\n",
    "#         self.embedding = nn.Embedding(vocab_size, glove_dim)\n",
    "#         # self.embedding.weight.data.copy_(torch.from_numpy(glove_weights))\n",
    "#         # self.embedding.weight.requires_grad = False\n",
    "#         self.transformer = nn.Transformer(d_model=self.glove_dim, batch_first=True)\n",
    "#         self.fc = nn.Linear(self.glove_dim, 1)\n",
    "\n",
    "#     def forward(self, x):\n",
    "#         tgt = torch.rand(x.shape[0], MAXLEN, self.glove_dim).to(device)\n",
    "#         out = self.embedding(x)\n",
    "#         out = self.transformer(out, tgt)\n",
    "#         out = out[:, -1, :]\n",
    "#         out = self.fc(out)\n",
    "#         return out\n",
    "\n",
    "# model = Transformer_Model(vocab_size, 512).to(device)"
   ]
  },
  {
   "cell_type": "markdown",
   "id": "59e8b783-8144-4c36-a74f-0fe0eab82164",
   "metadata": {},
   "source": [
    "# Train&val loop"
   ]
  },
  {
   "cell_type": "code",
   "execution_count": null,
   "id": "0507aca9-5994-4fce-a1b5-714cb216d415",
   "metadata": {},
   "outputs": [
    {
     "data": {
      "application/vnd.jupyter.widget-view+json": {
       "model_id": "933e69b86dfb4c9f9f8b1c672d8a5341",
       "version_major": 2,
       "version_minor": 0
      },
      "text/plain": [
       "  0%|          | 0/50 [00:00<?, ?it/s]"
      ]
     },
     "metadata": {},
     "output_type": "display_data"
    },
    {
     "name": "stdout",
     "output_type": "stream",
     "text": [
      "New best state detected, saving model\n",
      "Epoch 0, Lr = 0.001, train loss: 17320.868, val loss: 17333.240\n",
      "\tPos acc: 0.000, Neg acc: 1.000, Precision: 0.000, Recall: 0.000, F1: 0.000\n",
      "Epoch 1, Lr = 0.001, train loss: 17321.099, val loss: 17333.564\n",
      "\tPos acc: 0.000, Neg acc: 1.000, Precision: 0.000, Recall: 0.000, F1: 0.000\n",
      "Epoch 2, Lr = 0.001, train loss: 17322.252, val loss: 17334.826\n",
      "\tPos acc: 0.000, Neg acc: 1.000, Precision: 0.000, Recall: 0.000, F1: 0.000\n",
      "New best state detected, saving model\n",
      "Epoch 3, Lr = 0.001, train loss: 17322.509, val loss: 17332.817\n",
      "\tPos acc: 0.000, Neg acc: 1.000, Precision: 0.000, Recall: 0.000, F1: 0.000\n",
      "New best state detected, saving model\n",
      "Epoch 4, Lr = 0.0005, train loss: 17321.081, val loss: 17332.660\n",
      "\tPos acc: 0.000, Neg acc: 1.000, Precision: 0.000, Recall: 0.000, F1: 0.000\n"
     ]
    }
   ],
   "source": [
    "LR = 1e-3\n",
    "WEIGHT_DECAY = 1e-4\n",
    "NUM_EP = 50\n",
    "WAIT_EP = 20\n",
    "THRESHOLD = 0.5\n",
    "\n",
    "pos_weight = len(train[train['target'] == 0]) / len(train[train['target'] == 1])\n",
    "weights = torch.tensor([pos_weight]).to(device)\n",
    "criterion = nn.BCEWithLogitsLoss(pos_weight=weights)\n",
    "optim = torch.optim.Adam(model.parameters(), lr=LR, weight_decay=WEIGHT_DECAY)\n",
    "\n",
    "early_stopping = EarlyStopping(patience=6, min_delta=0.01)\n",
    "scheduler = torch.optim.lr_scheduler.ReduceLROnPlateau(optim, mode='min', factor=0.5, patience=3)\n",
    "accuracy = MulticlassAccuracy(average=None, num_classes=2).to(device)\n",
    "\n",
    "train_losses = []\n",
    "val_losses = []\n",
    "\n",
    "pos_acc_array = []\n",
    "neg_acc_array = []\n",
    "precision_array = []\n",
    "recall_array = []\n",
    "f1_array = []\n",
    "\n",
    "best_loss = float('inf')\n",
    "\n",
    "for epoch in tqdm(range(NUM_EP)):\n",
    "    if epoch > WAIT_EP:\n",
    "        model.embedding.weight.requires_grad = True\n",
    "    # Train\n",
    "    model.train()\n",
    "    running_train_loss = 0\n",
    "    for data in trainloader:\n",
    "        x, y = data\n",
    "        out = model(x.to(device))\n",
    "        loss = criterion(out, y.to(device))\n",
    "        optim.zero_grad()\n",
    "        loss.backward()\n",
    "        optim.step()\n",
    "        running_train_loss += loss.item()\n",
    "    train_losses.append(running_train_loss)\n",
    "    \n",
    "    # Val\n",
    "    model.eval()\n",
    "    running_val_loss = 0\n",
    "    accuracy.reset()\n",
    "\n",
    "    y_pred = []\n",
    "    y_true = []\n",
    "    \n",
    "    for data in valloader:\n",
    "        x, y = data  \n",
    "        out = model(x.to(device))\n",
    "\n",
    "        y_pred.append(np.where(out.cpu().detach().numpy() >= THRESHOLD, 1, 0))\n",
    "        y_true.append(y.cpu().numpy())\n",
    "        accuracy.update(out.flatten() >= THRESHOLD, y.flatten().long())\n",
    "        \n",
    "        loss = criterion(out, y.to(device))\n",
    "        running_val_loss += loss.item()\n",
    "    val_losses.append(running_val_loss * TRAIN_SIZE / (1 - TRAIN_SIZE))\n",
    "    \n",
    "    # Metrics\n",
    "    y_true = np.concatenate(y_true)\n",
    "    y_pred = np.concatenate(y_pred)\n",
    "    \n",
    "    \n",
    "    precision = precision_score(y_pred, y_true)\n",
    "    recall = recall_score(y_pred, y_true)\n",
    "    f1 = f1_score(y_pred, y_true)\n",
    "    neg_acc, pos_acc = accuracy.compute()\n",
    "\n",
    "    pos_acc_array.append(pos_acc.item())\n",
    "    neg_acc_array.append(neg_acc.item())\n",
    "    precision_array.append(precision)\n",
    "    recall_array.append(recall)\n",
    "    f1_array.append(f1)\n",
    "    if running_val_loss < best_loss:\n",
    "        best_loss = running_val_loss\n",
    "        print('New best state detected, saving model')\n",
    "        torch.save(model.state_dict(), 'QuoraLSTM_best_state.pt')\n",
    "        torch.save(model, 'QuoraLSTM_best_state_full.pt')\n",
    "    scheduler.step(running_val_loss)\n",
    "    if early_stopping(running_val_loss):\n",
    "        torch.save(model.state_dict(), 'QuoraLSTM_early_stopped.pt')\n",
    "        torch.save(model, 'QuoraLSTM_early_stopped_full.pt')\n",
    "        print('Stopped at epoch {}, train loss: {:.3f}, val loss: {:.3f}\\n\\tPos acc: {:.3f}, Neg acc: {:.3f}, Precision: {:.3f}, Recall: {:.3f}, F1: {:.3f}'.format(epoch, running_train_loss, \n",
    "                                                                                                running_val_loss * TRAIN_SIZE / (1 - TRAIN_SIZE), \n",
    "                                                                                                pos_acc_array[-1], neg_acc_array[-1], precision_array[-1], recall_array[-1], f1_array[-1]))\n",
    "        break\n",
    "    print('Epoch {}, Lr = {}, train loss: {:.3f}, val loss: {:.3f}\\n\\tPos acc: {:.3f}, Neg acc: {:.3f}, Precision: {:.3f}, Recall: {:.3f}, F1: {:.3f}'.format(epoch, scheduler.get_last_lr()[0], \n",
    "                                                                                                running_train_loss, running_val_loss * TRAIN_SIZE / (1 - TRAIN_SIZE), \n",
    "                                                                                                pos_acc_array[-1], neg_acc_array[-1], precision_array[-1], recall_array[-1], f1_array[-1]))"
   ]
  },
  {
   "cell_type": "code",
   "execution_count": null,
   "id": "c254c260-0615-43f2-b0f3-d882afa54fe3",
   "metadata": {},
   "outputs": [],
   "source": [
    "fig, (ax1, ax2) = plt.subplots(2, 1)\n",
    "ax1.plot(train_losses, color='blue')\n",
    "ax1.plot(val_losses, color='red')\n",
    "ax1.set_xlabel('Epoch')\n",
    "ax1.set_ylabel('Loss')\n",
    "ax1.legend(['Train', 'Val'])\n",
    "\n",
    "ax2.plot(pos_acc_array, color='blue')\n",
    "ax2.plot(neg_acc_array, color='red')\n",
    "ax2.plot(precision_array, color='green')\n",
    "ax2.plot(recall_array, color='yellow')\n",
    "ax2.plot(f1_array, color='pink')\n",
    "ax2.set_xlabel('Epoch')\n",
    "ax2.set_ylabel('Metric')\n",
    "ax2.legend(['Positive accuray', 'Negative accuracy', 'Precision', 'Recall', 'F1'])\n",
    "plt.tight_layout() "
   ]
  }
 ],
 "metadata": {
  "colab": {
   "collapsed_sections": [],
   "name": "quora project.ipynb",
   "provenance": []
  },
  "kernelspec": {
   "display_name": "Python 3",
   "language": "python",
   "name": "python3"
  },
  "language_info": {
   "codemirror_mode": {
    "name": "ipython",
    "version": 3
   },
   "file_extension": ".py",
   "mimetype": "text/x-python",
   "name": "python",
   "nbconvert_exporter": "python",
   "pygments_lexer": "ipython3",
   "version": "3.11.2"
  }
 },
 "nbformat": 4,
 "nbformat_minor": 5
}
